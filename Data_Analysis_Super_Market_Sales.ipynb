{
  "cells": [
    {
      "cell_type": "code",
      "source": [
        "install.packages(\"chron\")"
      ],
      "metadata": {
        "colab": {
          "base_uri": "https://localhost:8080/"
        },
        "id": "cEkvVz2ahmy-",
        "outputId": "00404e76-35ba-46d6-e016-5f74d76d1340"
      },
      "execution_count": null,
      "outputs": [
        {
          "output_type": "stream",
          "name": "stderr",
          "text": [
            "Installing package into ‘/usr/local/lib/R/site-library’\n",
            "(as ‘lib’ is unspecified)\n",
            "\n"
          ]
        }
      ]
    },
    {
      "cell_type": "code",
      "source": [
        "library(rpart)\n",
        "library(ggplot2)\n",
        "library(dplyr)\n",
        "library(chron)"
      ],
      "metadata": {
        "id": "tyj1anLlJUWI"
      },
      "execution_count": null,
      "outputs": []
    },
    {
      "cell_type": "code",
      "source": [
        "sales <- read.csv(\"supermarket_sales - Sheet1.csv\")\n",
        "summary(sales)\n",
        "sales <- sales %>% select(-Invoice.ID, -Branch)"
      ],
      "metadata": {
        "id": "Jy7T0ywd6rlB",
        "colab": {
          "base_uri": "https://localhost:8080/",
          "height": 642
        },
        "outputId": "a8d3e97d-3e5c-4bd2-fc64-aa02131679a1"
      },
      "execution_count": null,
      "outputs": [
        {
          "output_type": "display_data",
          "data": {
            "text/plain": [
              "  Invoice.ID           Branch              City           Customer.type     \n",
              " Length:1000        Length:1000        Length:1000        Length:1000       \n",
              " Class :character   Class :character   Class :character   Class :character  \n",
              " Mode  :character   Mode  :character   Mode  :character   Mode  :character  \n",
              "                                                                            \n",
              "                                                                            \n",
              "                                                                            \n",
              "    Gender          Product.line         Unit.price       Quantity    \n",
              " Length:1000        Length:1000        Min.   :10.08   Min.   : 1.00  \n",
              " Class :character   Class :character   1st Qu.:32.88   1st Qu.: 3.00  \n",
              " Mode  :character   Mode  :character   Median :55.23   Median : 5.00  \n",
              "                                       Mean   :55.67   Mean   : 5.51  \n",
              "                                       3rd Qu.:77.94   3rd Qu.: 8.00  \n",
              "                                       Max.   :99.96   Max.   :10.00  \n",
              "     Tax.5.            Total             Date               Time          \n",
              " Min.   : 0.5085   Min.   :  10.68   Length:1000        Length:1000       \n",
              " 1st Qu.: 5.9249   1st Qu.: 124.42   Class :character   Class :character  \n",
              " Median :12.0880   Median : 253.85   Mode  :character   Mode  :character  \n",
              " Mean   :15.3794   Mean   : 322.97                                        \n",
              " 3rd Qu.:22.4453   3rd Qu.: 471.35                                        \n",
              " Max.   :49.6500   Max.   :1042.65                                        \n",
              "   Payment               cogs        gross.margin.percentage  gross.income    \n",
              " Length:1000        Min.   : 10.17   Min.   :4.762           Min.   : 0.5085  \n",
              " Class :character   1st Qu.:118.50   1st Qu.:4.762           1st Qu.: 5.9249  \n",
              " Mode  :character   Median :241.76   Median :4.762           Median :12.0880  \n",
              "                    Mean   :307.59   Mean   :4.762           Mean   :15.3794  \n",
              "                    3rd Qu.:448.90   3rd Qu.:4.762           3rd Qu.:22.4453  \n",
              "                    Max.   :993.00   Max.   :4.762           Max.   :49.6500  \n",
              "     Rating      \n",
              " Min.   : 4.000  \n",
              " 1st Qu.: 5.500  \n",
              " Median : 7.000  \n",
              " Mean   : 6.973  \n",
              " 3rd Qu.: 8.500  \n",
              " Max.   :10.000  "
            ]
          },
          "metadata": {}
        }
      ]
    },
    {
      "cell_type": "code",
      "source": [
        "head(sales)"
      ],
      "metadata": {
        "colab": {
          "base_uri": "https://localhost:8080/",
          "height": 410
        },
        "id": "pCVM4jj2C8ED",
        "outputId": "fad5b22e-09d2-4e2d-f071-940bd142cde4"
      },
      "execution_count": null,
      "outputs": [
        {
          "output_type": "display_data",
          "data": {
            "text/html": [
              "<table class=\"dataframe\">\n",
              "<caption>A data.frame: 6 × 15</caption>\n",
              "<thead>\n",
              "\t<tr><th></th><th scope=col>City</th><th scope=col>Customer.type</th><th scope=col>Gender</th><th scope=col>Product.line</th><th scope=col>Unit.price</th><th scope=col>Quantity</th><th scope=col>Tax.5.</th><th scope=col>Total</th><th scope=col>Date</th><th scope=col>Time</th><th scope=col>Payment</th><th scope=col>cogs</th><th scope=col>gross.margin.percentage</th><th scope=col>gross.income</th><th scope=col>Rating</th></tr>\n",
              "\t<tr><th></th><th scope=col>&lt;chr&gt;</th><th scope=col>&lt;chr&gt;</th><th scope=col>&lt;chr&gt;</th><th scope=col>&lt;chr&gt;</th><th scope=col>&lt;dbl&gt;</th><th scope=col>&lt;int&gt;</th><th scope=col>&lt;dbl&gt;</th><th scope=col>&lt;dbl&gt;</th><th scope=col>&lt;chr&gt;</th><th scope=col>&lt;chr&gt;</th><th scope=col>&lt;chr&gt;</th><th scope=col>&lt;dbl&gt;</th><th scope=col>&lt;dbl&gt;</th><th scope=col>&lt;dbl&gt;</th><th scope=col>&lt;dbl&gt;</th></tr>\n",
              "</thead>\n",
              "<tbody>\n",
              "\t<tr><th scope=row>1</th><td>Yangon   </td><td>Member</td><td>Female</td><td>Health and beauty     </td><td>74.69</td><td>7</td><td>26.1415</td><td>548.9715</td><td>1/5/2019 </td><td>13:08</td><td>Ewallet    </td><td>522.83</td><td>4.761905</td><td>26.1415</td><td>9.1</td></tr>\n",
              "\t<tr><th scope=row>2</th><td>Naypyitaw</td><td>Normal</td><td>Female</td><td>Electronic accessories</td><td>15.28</td><td>5</td><td> 3.8200</td><td> 80.2200</td><td>3/8/2019 </td><td>10:29</td><td>Cash       </td><td> 76.40</td><td>4.761905</td><td> 3.8200</td><td>9.6</td></tr>\n",
              "\t<tr><th scope=row>3</th><td>Yangon   </td><td>Normal</td><td>Male  </td><td>Home and lifestyle    </td><td>46.33</td><td>7</td><td>16.2155</td><td>340.5255</td><td>3/3/2019 </td><td>13:23</td><td>Credit card</td><td>324.31</td><td>4.761905</td><td>16.2155</td><td>7.4</td></tr>\n",
              "\t<tr><th scope=row>4</th><td>Yangon   </td><td>Member</td><td>Male  </td><td>Health and beauty     </td><td>58.22</td><td>8</td><td>23.2880</td><td>489.0480</td><td>1/27/2019</td><td>20:33</td><td>Ewallet    </td><td>465.76</td><td>4.761905</td><td>23.2880</td><td>8.4</td></tr>\n",
              "\t<tr><th scope=row>5</th><td>Yangon   </td><td>Normal</td><td>Male  </td><td>Sports and travel     </td><td>86.31</td><td>7</td><td>30.2085</td><td>634.3785</td><td>2/8/2019 </td><td>10:37</td><td>Ewallet    </td><td>604.17</td><td>4.761905</td><td>30.2085</td><td>5.3</td></tr>\n",
              "\t<tr><th scope=row>6</th><td>Naypyitaw</td><td>Normal</td><td>Male  </td><td>Electronic accessories</td><td>85.39</td><td>7</td><td>29.8865</td><td>627.6165</td><td>3/25/2019</td><td>18:30</td><td>Ewallet    </td><td>597.73</td><td>4.761905</td><td>29.8865</td><td>4.1</td></tr>\n",
              "</tbody>\n",
              "</table>\n"
            ],
            "text/markdown": "\nA data.frame: 6 × 15\n\n| <!--/--> | City &lt;chr&gt; | Customer.type &lt;chr&gt; | Gender &lt;chr&gt; | Product.line &lt;chr&gt; | Unit.price &lt;dbl&gt; | Quantity &lt;int&gt; | Tax.5. &lt;dbl&gt; | Total &lt;dbl&gt; | Date &lt;chr&gt; | Time &lt;chr&gt; | Payment &lt;chr&gt; | cogs &lt;dbl&gt; | gross.margin.percentage &lt;dbl&gt; | gross.income &lt;dbl&gt; | Rating &lt;dbl&gt; |\n|---|---|---|---|---|---|---|---|---|---|---|---|---|---|---|---|\n| 1 | Yangon    | Member | Female | Health and beauty      | 74.69 | 7 | 26.1415 | 548.9715 | 1/5/2019  | 13:08 | Ewallet     | 522.83 | 4.761905 | 26.1415 | 9.1 |\n| 2 | Naypyitaw | Normal | Female | Electronic accessories | 15.28 | 5 |  3.8200 |  80.2200 | 3/8/2019  | 10:29 | Cash        |  76.40 | 4.761905 |  3.8200 | 9.6 |\n| 3 | Yangon    | Normal | Male   | Home and lifestyle     | 46.33 | 7 | 16.2155 | 340.5255 | 3/3/2019  | 13:23 | Credit card | 324.31 | 4.761905 | 16.2155 | 7.4 |\n| 4 | Yangon    | Member | Male   | Health and beauty      | 58.22 | 8 | 23.2880 | 489.0480 | 1/27/2019 | 20:33 | Ewallet     | 465.76 | 4.761905 | 23.2880 | 8.4 |\n| 5 | Yangon    | Normal | Male   | Sports and travel      | 86.31 | 7 | 30.2085 | 634.3785 | 2/8/2019  | 10:37 | Ewallet     | 604.17 | 4.761905 | 30.2085 | 5.3 |\n| 6 | Naypyitaw | Normal | Male   | Electronic accessories | 85.39 | 7 | 29.8865 | 627.6165 | 3/25/2019 | 18:30 | Ewallet     | 597.73 | 4.761905 | 29.8865 | 4.1 |\n\n",
            "text/latex": "A data.frame: 6 × 15\n\\begin{tabular}{r|lllllllllllllll}\n  & City & Customer.type & Gender & Product.line & Unit.price & Quantity & Tax.5. & Total & Date & Time & Payment & cogs & gross.margin.percentage & gross.income & Rating\\\\\n  & <chr> & <chr> & <chr> & <chr> & <dbl> & <int> & <dbl> & <dbl> & <chr> & <chr> & <chr> & <dbl> & <dbl> & <dbl> & <dbl>\\\\\n\\hline\n\t1 & Yangon    & Member & Female & Health and beauty      & 74.69 & 7 & 26.1415 & 548.9715 & 1/5/2019  & 13:08 & Ewallet     & 522.83 & 4.761905 & 26.1415 & 9.1\\\\\n\t2 & Naypyitaw & Normal & Female & Electronic accessories & 15.28 & 5 &  3.8200 &  80.2200 & 3/8/2019  & 10:29 & Cash        &  76.40 & 4.761905 &  3.8200 & 9.6\\\\\n\t3 & Yangon    & Normal & Male   & Home and lifestyle     & 46.33 & 7 & 16.2155 & 340.5255 & 3/3/2019  & 13:23 & Credit card & 324.31 & 4.761905 & 16.2155 & 7.4\\\\\n\t4 & Yangon    & Member & Male   & Health and beauty      & 58.22 & 8 & 23.2880 & 489.0480 & 1/27/2019 & 20:33 & Ewallet     & 465.76 & 4.761905 & 23.2880 & 8.4\\\\\n\t5 & Yangon    & Normal & Male   & Sports and travel      & 86.31 & 7 & 30.2085 & 634.3785 & 2/8/2019  & 10:37 & Ewallet     & 604.17 & 4.761905 & 30.2085 & 5.3\\\\\n\t6 & Naypyitaw & Normal & Male   & Electronic accessories & 85.39 & 7 & 29.8865 & 627.6165 & 3/25/2019 & 18:30 & Ewallet     & 597.73 & 4.761905 & 29.8865 & 4.1\\\\\n\\end{tabular}\n",
            "text/plain": [
              "  City      Customer.type Gender Product.line           Unit.price Quantity\n",
              "1 Yangon    Member        Female Health and beauty      74.69      7       \n",
              "2 Naypyitaw Normal        Female Electronic accessories 15.28      5       \n",
              "3 Yangon    Normal        Male   Home and lifestyle     46.33      7       \n",
              "4 Yangon    Member        Male   Health and beauty      58.22      8       \n",
              "5 Yangon    Normal        Male   Sports and travel      86.31      7       \n",
              "6 Naypyitaw Normal        Male   Electronic accessories 85.39      7       \n",
              "  Tax.5.  Total    Date      Time  Payment     cogs   gross.margin.percentage\n",
              "1 26.1415 548.9715 1/5/2019  13:08 Ewallet     522.83 4.761905               \n",
              "2  3.8200  80.2200 3/8/2019  10:29 Cash         76.40 4.761905               \n",
              "3 16.2155 340.5255 3/3/2019  13:23 Credit card 324.31 4.761905               \n",
              "4 23.2880 489.0480 1/27/2019 20:33 Ewallet     465.76 4.761905               \n",
              "5 30.2085 634.3785 2/8/2019  10:37 Ewallet     604.17 4.761905               \n",
              "6 29.8865 627.6165 3/25/2019 18:30 Ewallet     597.73 4.761905               \n",
              "  gross.income Rating\n",
              "1 26.1415      9.1   \n",
              "2  3.8200      9.6   \n",
              "3 16.2155      7.4   \n",
              "4 23.2880      8.4   \n",
              "5 30.2085      5.3   \n",
              "6 29.8865      4.1   "
            ]
          },
          "metadata": {}
        }
      ]
    },
    {
      "cell_type": "markdown",
      "source": [
        "NEW DATA SET!!! gives sales information of a supermarket with three different branches. Wierdly, it didnt give the name of the supermarket in the description."
      ],
      "metadata": {
        "id": "Bd0blGSpD8LH"
      }
    },
    {
      "cell_type": "markdown",
      "source": [
        "QUESTIONS:\n",
        "1.is there a relationship between time of day and what people are buyinh\n",
        "2.can we predict how much people are going to spend and what day people are going to spend based on whether they are male or female\n",
        "3.does each gender buy at different times of the day and what do they buy? Can i predict these things\n",
        "4.is there a relationship between COGS and the payment type?"
      ],
      "metadata": {
        "id": "MT0mpFa-SJeo"
      }
    },
    {
      "cell_type": "code",
      "source": [
        "#https://stackoverflow.com/questions/29067375/convert-hoursminutesseconds-to-minutes\n",
        "#https://statisticsglobe.com/group-data-frame-rows-range-r\n",
        "#https://www.statology.org/r-geom_path-each-group-consists-of-only-one-observation/\n",
        "sales2 <- sales %>% select(Time, cogs)\n",
        "sales2 <- sales2 %>% mutate(Time1 = paste(Time, \":00\")) %>% mutate(TimeSorted = 60 * 24 * as.numeric(times(Time1)))\n",
        "sales2 <- sales2 %>% select(-Time1, -Time)\n",
        "sales2 <- sales2 %>% mutate(TimeRange = cut(TimeSorted, seq(600, 1200, 60))) %>% group_by(TimeRange) %>% dplyr::summarize(sums = sum(cogs)) %>% as.data.frame()\n",
        "head(sales2, 12)\n",
        "ggplot(sales2, aes(TimeRange, sums, group=1)) + geom_point() + geom_line() + ylab(\"total cost of goods sold\") + scale_x_discrete(name=\"Time in hours\", labels=c(\"(600,660]\" = \"10am\", \"(660,720]\" = \"11am\", \"(720,780]\" = \"12am\", \"(780,840]\" = \"1pm\",\"(840,900]\" = \"2pm\",\"(900,960]\" = \"3pm\",\"(960,1.02e+03]\" = \"4pm\",\"(1.02e+03,1.08e+03]\" = \"5pm\",\"(1.08e+03,1.14e+03]\" = \"6pm\",\"(1.14e+03,1.2e+03]\" = \"7pm\", \"NA\" = \"8pm\"))\n",
        "#shows that as the day goes own total cost of goods sold decreases so cthis company is more likely to make money in the morning hours and at\n"
      ],
      "metadata": {
        "colab": {
          "base_uri": "https://localhost:8080/",
          "height": 863
        },
        "id": "PK8lciv3JxtQ",
        "outputId": "0b7ebe48-9187-4775-b5fb-223e50f432e2"
      },
      "execution_count": null,
      "outputs": [
        {
          "output_type": "display_data",
          "data": {
            "text/html": [
              "<table class=\"dataframe\">\n",
              "<caption>A data.frame: 11 × 2</caption>\n",
              "<thead>\n",
              "\t<tr><th></th><th scope=col>TimeRange</th><th scope=col>sums</th></tr>\n",
              "\t<tr><th></th><th scope=col>&lt;fct&gt;</th><th scope=col>&lt;dbl&gt;</th></tr>\n",
              "</thead>\n",
              "<tbody>\n",
              "\t<tr><th scope=row>1</th><td>(600,660]          </td><td>29306.40</td></tr>\n",
              "\t<tr><th scope=row>2</th><td>(660,720]          </td><td>28616.35</td></tr>\n",
              "\t<tr><th scope=row>3</th><td>(720,780]          </td><td>27036.85</td></tr>\n",
              "\t<tr><th scope=row>4</th><td>(780,840]          </td><td>31356.25</td></tr>\n",
              "\t<tr><th scope=row>5</th><td>(840,900]          </td><td>29136.15</td></tr>\n",
              "\t<tr><th scope=row>6</th><td>(900,960]          </td><td>29420.29</td></tr>\n",
              "\t<tr><th scope=row>7</th><td>(960,1.02e+03]     </td><td>24025.07</td></tr>\n",
              "\t<tr><th scope=row>8</th><td>(1.02e+03,1.08e+03]</td><td>23821.01</td></tr>\n",
              "\t<tr><th scope=row>9</th><td>(1.08e+03,1.14e+03]</td><td>25006.87</td></tr>\n",
              "\t<tr><th scope=row>10</th><td>(1.14e+03,1.2e+03] </td><td>37349.51</td></tr>\n",
              "\t<tr><th scope=row>11</th><td>NA                 </td><td>22512.63</td></tr>\n",
              "</tbody>\n",
              "</table>\n"
            ],
            "text/markdown": "\nA data.frame: 11 × 2\n\n| <!--/--> | TimeRange &lt;fct&gt; | sums &lt;dbl&gt; |\n|---|---|---|\n| 1 | (600,660]           | 29306.40 |\n| 2 | (660,720]           | 28616.35 |\n| 3 | (720,780]           | 27036.85 |\n| 4 | (780,840]           | 31356.25 |\n| 5 | (840,900]           | 29136.15 |\n| 6 | (900,960]           | 29420.29 |\n| 7 | (960,1.02e+03]      | 24025.07 |\n| 8 | (1.02e+03,1.08e+03] | 23821.01 |\n| 9 | (1.08e+03,1.14e+03] | 25006.87 |\n| 10 | (1.14e+03,1.2e+03]  | 37349.51 |\n| 11 | NA                  | 22512.63 |\n\n",
            "text/latex": "A data.frame: 11 × 2\n\\begin{tabular}{r|ll}\n  & TimeRange & sums\\\\\n  & <fct> & <dbl>\\\\\n\\hline\n\t1 & (600,660{]}           & 29306.40\\\\\n\t2 & (660,720{]}           & 28616.35\\\\\n\t3 & (720,780{]}           & 27036.85\\\\\n\t4 & (780,840{]}           & 31356.25\\\\\n\t5 & (840,900{]}           & 29136.15\\\\\n\t6 & (900,960{]}           & 29420.29\\\\\n\t7 & (960,1.02e+03{]}      & 24025.07\\\\\n\t8 & (1.02e+03,1.08e+03{]} & 23821.01\\\\\n\t9 & (1.08e+03,1.14e+03{]} & 25006.87\\\\\n\t10 & (1.14e+03,1.2e+03{]}  & 37349.51\\\\\n\t11 & NA                  & 22512.63\\\\\n\\end{tabular}\n",
            "text/plain": [
              "   TimeRange           sums    \n",
              "1  (600,660]           29306.40\n",
              "2  (660,720]           28616.35\n",
              "3  (720,780]           27036.85\n",
              "4  (780,840]           31356.25\n",
              "5  (840,900]           29136.15\n",
              "6  (900,960]           29420.29\n",
              "7  (960,1.02e+03]      24025.07\n",
              "8  (1.02e+03,1.08e+03] 23821.01\n",
              "9  (1.08e+03,1.14e+03] 25006.87\n",
              "10 (1.14e+03,1.2e+03]  37349.51\n",
              "11 NA                  22512.63"
            ]
          },
          "metadata": {}
        },
        {
          "output_type": "display_data",
          "data": {
            "text/plain": [
              "plot without title"
            ],
            "image/png": "[encoded data removed]"
          },
          "metadata": {
            "image/png": {
              "width": 420,
              "height": 420
            }
          }
        }
      ]
    },
    {
      "cell_type": "markdown",
      "source": [
        "_______________________________\n"
      ],
      "metadata": {
        "id": "ZlVWxd7XI5Rw"
      }
    },
    {
      "cell_type": "code",
      "source": [
        "#create a descision tree that predicts the quantity"
      ],
      "metadata": {
        "id": "UqJNaXAxgut_"
      },
      "execution_count": null,
      "outputs": []
    },
    {
      "cell_type": "code",
      "source": [
        "sales <- sales %>% select(-Date, -Time)"
      ],
      "metadata": {
        "id": "LFRAUnmYdZas"
      },
      "execution_count": null,
      "outputs": []
    },
    {
      "cell_type": "code",
      "source": [
        "set.seed(8675309)\n",
        "\n",
        "split <- 0.75\n",
        "rows  <- nrow(sales)\n",
        "\n",
        "train.entries <- sample(rows, rows*split)\n",
        "\n",
        "sales.train <- sales[train.entries, ]\n",
        "sales.valid  <- sales[-train.entries,  ]"
      ],
      "metadata": {
        "id": "AnMDtZMAs8Kd"
      },
      "execution_count": null,
      "outputs": []
    },
    {
      "cell_type": "code",
      "source": [
        "model <- lm(Quantity~ ., data=sales.train)"
      ],
      "metadata": {
        "id": "Ny80vG5dCBpx"
      },
      "execution_count": null,
      "outputs": []
    },
    {
      "cell_type": "code",
      "source": [
        "summary(model)"
      ],
      "metadata": {
        "colab": {
          "base_uri": "https://localhost:8080/",
          "height": 642
        },
        "id": "nuhK8wwDC_FN",
        "outputId": "5d44b05d-a5f3-4920-d1e1-c97c020e182c"
      },
      "execution_count": null,
      "outputs": [
        {
          "output_type": "display_data",
          "data": {
            "text/plain": [
              "\n",
              "Call:\n",
              "lm(formula = Quantity ~ ., data = sales.train)\n",
              "\n",
              "Residuals:\n",
              "    Min      1Q  Median      3Q     Max \n",
              "-3.9795 -0.6197 -0.0159  0.5609  3.8816 \n",
              "\n",
              "Coefficients: (4 not defined because of singularities)\n",
              "                                 Estimate Std. Error t value Pr(>|t|)    \n",
              "(Intercept)                      5.128252   0.263315  19.476   <2e-16 ***\n",
              "CityNaypyitaw                    0.137930   0.115185   1.197    0.232    \n",
              "CityYangon                       0.117793   0.112117   1.051    0.294    \n",
              "Customer.typeNormal             -0.078481   0.093119  -0.843    0.400    \n",
              "GenderMale                       0.057979   0.093626   0.619    0.536    \n",
              "Product.lineFashion accessories  0.035760   0.159520   0.224    0.823    \n",
              "Product.lineFood and beverages   0.007189   0.159371   0.045    0.964    \n",
              "Product.lineHealth and beauty    0.029999   0.163060   0.184    0.854    \n",
              "Product.lineHome and lifestyle   0.009515   0.162518   0.059    0.953    \n",
              "Product.lineSports and travel    0.071239   0.159468   0.447    0.655    \n",
              "Unit.price                      -0.080465   0.002252 -35.730   <2e-16 ***\n",
              "Tax.5.                           0.289429   0.005142  56.286   <2e-16 ***\n",
              "Total                                  NA         NA      NA       NA    \n",
              "PaymentCredit card              -0.036376   0.115333  -0.315    0.753    \n",
              "PaymentEwallet                   0.087600   0.112053   0.782    0.435    \n",
              "cogs                                   NA         NA      NA       NA    \n",
              "gross.margin.percentage                NA         NA      NA       NA    \n",
              "gross.income                           NA         NA      NA       NA    \n",
              "Rating                           0.043270   0.026659   1.623    0.105    \n",
              "---\n",
              "Signif. codes:  0 ‘***’ 0.001 ‘**’ 0.01 ‘*’ 0.05 ‘.’ 0.1 ‘ ’ 1\n",
              "\n",
              "Residual standard error: 1.261 on 735 degrees of freedom\n",
              "Multiple R-squared:  0.8156,\tAdjusted R-squared:  0.8121 \n",
              "F-statistic: 232.2 on 14 and 735 DF,  p-value: < 2.2e-16\n"
            ]
          },
          "metadata": {}
        }
      ]
    },
    {
      "cell_type": "code",
      "source": [
        "sales.train <- sales.train %>%\n",
        "    mutate(yhat = predict(model, newdata=sales.train)) %>%\n",
        "    mutate(residual = Quantity - yhat)\n",
        "\n",
        "sales.valid <- sales.valid %>%\n",
        "    mutate(yhat = predict(model, newdata=sales.valid)) %>%\n",
        "    mutate(residual = Quantity - yhat)"
      ],
      "metadata": {
        "id": "y9kWeoH3FjXS"
      },
      "execution_count": null,
      "outputs": []
    },
    {
      "cell_type": "code",
      "source": [
        "ggplot(sales.valid) +\n",
        "  geom_point(aes(x=yhat, y=residual)) +\n",
        "  geom_hline(aes(yintercept=0), linetype=\"dashed\", color=\"red\")"
      ],
      "metadata": {
        "colab": {
          "base_uri": "https://localhost:8080/",
          "height": 437
        },
        "id": "uZ8TBXjWuhy5",
        "outputId": "bce3a3ea-c0d8-4e12-e9fa-d2f4a92f3190"
      },
      "execution_count": null,
      "outputs": [
        {
          "output_type": "display_data",
          "data": {
            "text/plain": [
              "plot without title"
            ],
            "image/png": "[encoded data removed]"
          },
          "metadata": {
            "image/png": {
              "width": 420,
              "height": 420
            }
          }
        }
      ]
    },
    {
      "cell_type": "markdown",
      "source": [
        "______________________"
      ],
      "metadata": {
        "id": "1ESCUHnEI081"
      }
    },
    {
      "cell_type": "code",
      "source": [
        "#do a logical regression based on cogs and gender"
      ],
      "metadata": {
        "id": "Sop0HWKHX_Gb"
      },
      "execution_count": null,
      "outputs": []
    },
    {
      "cell_type": "code",
      "source": [
        "sales <- sales %>% mutate(Male = Gender == \"Male\") %>% select(-Gender)"
      ],
      "metadata": {
        "id": "SijF_pBrYZ7M"
      },
      "execution_count": null,
      "outputs": []
    },
    {
      "cell_type": "code",
      "source": [
        "set.seed(8675309)\n",
        "\n",
        "split <- 0.75\n",
        "rows  <- nrow(sales)\n",
        "\n",
        "train.entries <- sample(rows, rows*split)\n",
        "\n",
        "sales.train <- sales[train.entries, ]\n",
        "sales.valid  <- sales[-train.entries,  ]"
      ],
      "metadata": {
        "id": "dppjhq_KI3gh"
      },
      "execution_count": null,
      "outputs": []
    },
    {
      "cell_type": "code",
      "source": [
        "model <- glm(Male ~ ., data=sales.train)"
      ],
      "metadata": {
        "id": "2H4XuS99X9qf"
      },
      "execution_count": null,
      "outputs": []
    },
    {
      "cell_type": "code",
      "source": [
        "summary(model)"
      ],
      "metadata": {
        "colab": {
          "base_uri": "https://localhost:8080/",
          "height": 642
        },
        "id": "UGQ3TubmYNew",
        "outputId": "88e00aff-6c7d-44a4-b55e-c1637c56a669"
      },
      "execution_count": null,
      "outputs": [
        {
          "output_type": "display_data",
          "data": {
            "text/plain": [
              "\n",
              "Call:\n",
              "glm(formula = Male ~ ., data = sales.train)\n",
              "\n",
              "Coefficients: (4 not defined because of singularities)\n",
              "                                 Estimate Std. Error t value Pr(>|t|)    \n",
              "(Intercept)                      0.450399   0.126612   3.557 0.000399 ***\n",
              "CityNaypyitaw                   -0.085493   0.045302  -1.887 0.059529 .  \n",
              "CityYangon                      -0.020009   0.044186  -0.453 0.650795    \n",
              "Customer.typeNormal              0.016238   0.036689   0.443 0.658198    \n",
              "Product.lineFashion accessories -0.046116   0.062808  -0.734 0.463040    \n",
              "Product.lineFood and beverages  -0.022259   0.062765  -0.355 0.722958    \n",
              "Product.lineHealth and beauty    0.110714   0.064095   1.727 0.084528 .  \n",
              "Product.lineHome and lifestyle  -0.024948   0.064004  -0.390 0.696803    \n",
              "Product.lineSports and travel   -0.043590   0.062797  -0.694 0.487811    \n",
              "Unit.price                       0.002909   0.001463   1.988 0.047217 *  \n",
              "Quantity                         0.008994   0.014524   0.619 0.535935    \n",
              "Tax.5.                          -0.008244   0.004657  -1.770 0.077104 .  \n",
              "Total                                  NA         NA      NA       NA    \n",
              "PaymentCredit card              -0.004068   0.045428  -0.090 0.928668    \n",
              "PaymentEwallet                   0.067018   0.044083   1.520 0.128874    \n",
              "cogs                                   NA         NA      NA       NA    \n",
              "gross.margin.percentage                NA         NA      NA       NA    \n",
              "gross.income                           NA         NA      NA       NA    \n",
              "Rating                          -0.005261   0.010517  -0.500 0.617065    \n",
              "---\n",
              "Signif. codes:  0 ‘***’ 0.001 ‘**’ 0.01 ‘*’ 0.05 ‘.’ 0.1 ‘ ’ 1\n",
              "\n",
              "(Dispersion parameter for gaussian family taken to be 0.2465855)\n",
              "\n",
              "    Null deviance: 187.39  on 749  degrees of freedom\n",
              "Residual deviance: 181.24  on 735  degrees of freedom\n",
              "AIC: 1095.2\n",
              "\n",
              "Number of Fisher Scoring iterations: 2\n"
            ]
          },
          "metadata": {}
        }
      ]
    },
    {
      "cell_type": "code",
      "source": [
        "sales <- sales %>% mutate(phat = predict(model, type='response', newdata=sales))\n",
        "\n",
        "sales %>% head()"
      ],
      "metadata": {
        "colab": {
          "base_uri": "https://localhost:8080/",
          "height": 410
        },
        "id": "VU5_VXJUg_tz",
        "outputId": "5edc68bf-ddf1-4d0d-b61a-9d96b94637b9"
      },
      "execution_count": null,
      "outputs": [
        {
          "output_type": "display_data",
          "data": {
            "text/html": [
              "<table class=\"dataframe\">\n",
              "<caption>A data.frame: 6 × 14</caption>\n",
              "<thead>\n",
              "\t<tr><th></th><th scope=col>City</th><th scope=col>Customer.type</th><th scope=col>Product.line</th><th scope=col>Unit.price</th><th scope=col>Quantity</th><th scope=col>Tax.5.</th><th scope=col>Total</th><th scope=col>Payment</th><th scope=col>cogs</th><th scope=col>gross.margin.percentage</th><th scope=col>gross.income</th><th scope=col>Rating</th><th scope=col>Male</th><th scope=col>phat</th></tr>\n",
              "\t<tr><th></th><th scope=col>&lt;chr&gt;</th><th scope=col>&lt;chr&gt;</th><th scope=col>&lt;chr&gt;</th><th scope=col>&lt;dbl&gt;</th><th scope=col>&lt;int&gt;</th><th scope=col>&lt;dbl&gt;</th><th scope=col>&lt;dbl&gt;</th><th scope=col>&lt;chr&gt;</th><th scope=col>&lt;dbl&gt;</th><th scope=col>&lt;dbl&gt;</th><th scope=col>&lt;dbl&gt;</th><th scope=col>&lt;dbl&gt;</th><th scope=col>&lt;lgl&gt;</th><th scope=col>&lt;dbl&gt;</th></tr>\n",
              "</thead>\n",
              "<tbody>\n",
              "\t<tr><th scope=row>1</th><td>Yangon   </td><td>Member</td><td>Health and beauty     </td><td>74.69</td><td>7</td><td>26.1415</td><td>548.9715</td><td>Ewallet    </td><td>522.83</td><td>4.761905</td><td>26.1415</td><td>9.1</td><td>FALSE</td><td>0.6267054</td></tr>\n",
              "\t<tr><th scope=row>2</th><td>Naypyitaw</td><td>Normal</td><td>Electronic accessories</td><td>15.28</td><td>5</td><td> 3.8200</td><td> 80.2200</td><td>Cash       </td><td> 76.40</td><td>4.761905</td><td> 3.8200</td><td>9.6</td><td>FALSE</td><td>0.3869368</td></tr>\n",
              "\t<tr><th scope=row>3</th><td>Yangon   </td><td>Normal</td><td>Home and lifestyle    </td><td>46.33</td><td>7</td><td>16.2155</td><td>340.5255</td><td>Credit card</td><td>324.31</td><td>4.761905</td><td>16.2155</td><td>7.4</td><td> TRUE</td><td>0.4420163</td></tr>\n",
              "\t<tr><th scope=row>4</th><td>Yangon   </td><td>Member</td><td>Health and beauty     </td><td>58.22</td><td>8</td><td>23.2880</td><td>489.0480</td><td>Ewallet    </td><td>465.76</td><td>4.761905</td><td>23.2880</td><td>8.4</td><td> TRUE</td><td>0.6153731</td></tr>\n",
              "\t<tr><th scope=row>5</th><td>Yangon   </td><td>Normal</td><td>Sports and travel     </td><td>86.31</td><td>7</td><td>30.2085</td><td>634.3785</td><td>Ewallet    </td><td>604.17</td><td>4.761905</td><td>30.2085</td><td>5.3</td><td> TRUE</td><td>0.5077105</td></tr>\n",
              "\t<tr><th scope=row>6</th><td>Naypyitaw</td><td>Normal</td><td>Electronic accessories</td><td>85.39</td><td>7</td><td>29.8865</td><td>627.6165</td><td>Ewallet    </td><td>597.73</td><td>4.761905</td><td>29.8865</td><td>4.1</td><td> TRUE</td><td>0.4911316</td></tr>\n",
              "</tbody>\n",
              "</table>\n"
            ],
            "text/markdown": "\nA data.frame: 6 × 14\n\n| <!--/--> | City &lt;chr&gt; | Customer.type &lt;chr&gt; | Product.line &lt;chr&gt; | Unit.price &lt;dbl&gt; | Quantity &lt;int&gt; | Tax.5. &lt;dbl&gt; | Total &lt;dbl&gt; | Payment &lt;chr&gt; | cogs &lt;dbl&gt; | gross.margin.percentage &lt;dbl&gt; | gross.income &lt;dbl&gt; | Rating &lt;dbl&gt; | Male &lt;lgl&gt; | phat &lt;dbl&gt; |\n|---|---|---|---|---|---|---|---|---|---|---|---|---|---|---|\n| 1 | Yangon    | Member | Health and beauty      | 74.69 | 7 | 26.1415 | 548.9715 | Ewallet     | 522.83 | 4.761905 | 26.1415 | 9.1 | FALSE | 0.6267054 |\n| 2 | Naypyitaw | Normal | Electronic accessories | 15.28 | 5 |  3.8200 |  80.2200 | Cash        |  76.40 | 4.761905 |  3.8200 | 9.6 | FALSE | 0.3869368 |\n| 3 | Yangon    | Normal | Home and lifestyle     | 46.33 | 7 | 16.2155 | 340.5255 | Credit card | 324.31 | 4.761905 | 16.2155 | 7.4 |  TRUE | 0.4420163 |\n| 4 | Yangon    | Member | Health and beauty      | 58.22 | 8 | 23.2880 | 489.0480 | Ewallet     | 465.76 | 4.761905 | 23.2880 | 8.4 |  TRUE | 0.6153731 |\n| 5 | Yangon    | Normal | Sports and travel      | 86.31 | 7 | 30.2085 | 634.3785 | Ewallet     | 604.17 | 4.761905 | 30.2085 | 5.3 |  TRUE | 0.5077105 |\n| 6 | Naypyitaw | Normal | Electronic accessories | 85.39 | 7 | 29.8865 | 627.6165 | Ewallet     | 597.73 | 4.761905 | 29.8865 | 4.1 |  TRUE | 0.4911316 |\n\n",
            "text/latex": "A data.frame: 6 × 14\n\\begin{tabular}{r|llllllllllllll}\n  & City & Customer.type & Product.line & Unit.price & Quantity & Tax.5. & Total & Payment & cogs & gross.margin.percentage & gross.income & Rating & Male & phat\\\\\n  & <chr> & <chr> & <chr> & <dbl> & <int> & <dbl> & <dbl> & <chr> & <dbl> & <dbl> & <dbl> & <dbl> & <lgl> & <dbl>\\\\\n\\hline\n\t1 & Yangon    & Member & Health and beauty      & 74.69 & 7 & 26.1415 & 548.9715 & Ewallet     & 522.83 & 4.761905 & 26.1415 & 9.1 & FALSE & 0.6267054\\\\\n\t2 & Naypyitaw & Normal & Electronic accessories & 15.28 & 5 &  3.8200 &  80.2200 & Cash        &  76.40 & 4.761905 &  3.8200 & 9.6 & FALSE & 0.3869368\\\\\n\t3 & Yangon    & Normal & Home and lifestyle     & 46.33 & 7 & 16.2155 & 340.5255 & Credit card & 324.31 & 4.761905 & 16.2155 & 7.4 &  TRUE & 0.4420163\\\\\n\t4 & Yangon    & Member & Health and beauty      & 58.22 & 8 & 23.2880 & 489.0480 & Ewallet     & 465.76 & 4.761905 & 23.2880 & 8.4 &  TRUE & 0.6153731\\\\\n\t5 & Yangon    & Normal & Sports and travel      & 86.31 & 7 & 30.2085 & 634.3785 & Ewallet     & 604.17 & 4.761905 & 30.2085 & 5.3 &  TRUE & 0.5077105\\\\\n\t6 & Naypyitaw & Normal & Electronic accessories & 85.39 & 7 & 29.8865 & 627.6165 & Ewallet     & 597.73 & 4.761905 & 29.8865 & 4.1 &  TRUE & 0.4911316\\\\\n\\end{tabular}\n",
            "text/plain": [
              "  City      Customer.type Product.line           Unit.price Quantity Tax.5. \n",
              "1 Yangon    Member        Health and beauty      74.69      7        26.1415\n",
              "2 Naypyitaw Normal        Electronic accessories 15.28      5         3.8200\n",
              "3 Yangon    Normal        Home and lifestyle     46.33      7        16.2155\n",
              "4 Yangon    Member        Health and beauty      58.22      8        23.2880\n",
              "5 Yangon    Normal        Sports and travel      86.31      7        30.2085\n",
              "6 Naypyitaw Normal        Electronic accessories 85.39      7        29.8865\n",
              "  Total    Payment     cogs   gross.margin.percentage gross.income Rating Male \n",
              "1 548.9715 Ewallet     522.83 4.761905                26.1415      9.1    FALSE\n",
              "2  80.2200 Cash         76.40 4.761905                 3.8200      9.6    FALSE\n",
              "3 340.5255 Credit card 324.31 4.761905                16.2155      7.4     TRUE\n",
              "4 489.0480 Ewallet     465.76 4.761905                23.2880      8.4     TRUE\n",
              "5 634.3785 Ewallet     604.17 4.761905                30.2085      5.3     TRUE\n",
              "6 627.6165 Ewallet     597.73 4.761905                29.8865      4.1     TRUE\n",
              "  phat     \n",
              "1 0.6267054\n",
              "2 0.3869368\n",
              "3 0.4420163\n",
              "4 0.6153731\n",
              "5 0.5077105\n",
              "6 0.4911316"
            ]
          },
          "metadata": {}
        }
      ]
    },
    {
      "cell_type": "code",
      "source": [
        "sales <- sales %>% mutate(prediction = phat > 0.5)"
      ],
      "metadata": {
        "id": "V0XW_cQTi83m"
      },
      "execution_count": null,
      "outputs": []
    },
    {
      "cell_type": "code",
      "source": [
        "table(sales$prediction, sales$Male, dnn=c(\"prediction\", \"true value\"))"
      ],
      "metadata": {
        "colab": {
          "base_uri": "https://localhost:8080/",
          "height": 88
        },
        "id": "0kDDErAKjYzJ",
        "outputId": "d86216a0-4244-4ac3-9a05-15dccad17c81"
      },
      "execution_count": null,
      "outputs": [
        {
          "output_type": "display_data",
          "data": {
            "text/plain": [
              "          true value\n",
              "prediction FALSE TRUE\n",
              "     FALSE   314  270\n",
              "     TRUE    187  229"
            ]
          },
          "metadata": {}
        }
      ]
    },
    {
      "cell_type": "code",
      "source": [
        "#accuracy = 54%"
      ],
      "metadata": {
        "id": "8bKJBl_Pj0Xy"
      },
      "execution_count": null,
      "outputs": []
    },
    {
      "cell_type": "code",
      "source": [
        "sales %>% group_by(Male) %>% summarize(N=n(), null.predict = n()/nrow(sales)*100)"
      ],
      "metadata": {
        "id": "Cdckl9xTkU6F",
        "outputId": "f79f1111-6aa3-424b-ab4d-1011bdad5c3f",
        "colab": {
          "base_uri": "https://localhost:8080/",
          "height": 161
        }
      },
      "execution_count": null,
      "outputs": [
        {
          "output_type": "display_data",
          "data": {
            "text/html": [
              "<table class=\"dataframe\">\n",
              "<caption>A tibble: 2 × 3</caption>\n",
              "<thead>\n",
              "\t<tr><th scope=col>Male</th><th scope=col>N</th><th scope=col>null.predict</th></tr>\n",
              "\t<tr><th scope=col>&lt;lgl&gt;</th><th scope=col>&lt;int&gt;</th><th scope=col>&lt;dbl&gt;</th></tr>\n",
              "</thead>\n",
              "<tbody>\n",
              "\t<tr><td>FALSE</td><td>501</td><td>50.1</td></tr>\n",
              "\t<tr><td> TRUE</td><td>499</td><td>49.9</td></tr>\n",
              "</tbody>\n",
              "</table>\n"
            ],
            "text/markdown": "\nA tibble: 2 × 3\n\n| Male &lt;lgl&gt; | N &lt;int&gt; | null.predict &lt;dbl&gt; |\n|---|---|---|\n| FALSE | 501 | 50.1 |\n|  TRUE | 499 | 49.9 |\n\n",
            "text/latex": "A tibble: 2 × 3\n\\begin{tabular}{lll}\n Male & N & null.predict\\\\\n <lgl> & <int> & <dbl>\\\\\n\\hline\n\t FALSE & 501 & 50.1\\\\\n\t  TRUE & 499 & 49.9\\\\\n\\end{tabular}\n",
            "text/plain": [
              "  Male  N   null.predict\n",
              "1 FALSE 501 50.1        \n",
              "2  TRUE 499 49.9        "
            ]
          },
          "metadata": {}
        }
      ]
    }
  ],
  "metadata": {
    "colab": {
      "provenance": []
    },
    "kernelspec": {
      "display_name": "R 4.0.3",
      "language": "R",
      "name": "ir"
    },
    "language_info": {
      "codemirror_mode": "r",
      "file_extension": ".r",
      "mimetype": "text/x-r-source",
      "name": "R",
      "pygments_lexer": "r",
      "version": "4.0.3"
    }
  },
  "nbformat": 4,
  "nbformat_minor": 0
}